{
 "cells": [
  {
   "cell_type": "markdown",
   "metadata": {
    "id": "NG-mVsVuE0if"
   },
   "source": [
    "# Preâmbulo\n",
    "\n",
    "Imports, funções, downloads e instalação do Pytorch."
   ]
  },
  {
   "cell_type": "code",
   "execution_count": 1,
   "metadata": {
    "id": "fEHmMCjR4PJw"
   },
   "outputs": [],
   "source": [
    "# Basic imports.\n",
    "import os\n",
    "import time\n",
    "import numpy as np\n",
    "import torch\n",
    "\n",
    "from torch.autograd import Variable\n",
    "import torch.nn.functional as F\n",
    "\n",
    "from torch import nn\n",
    "from torch import optim\n",
    "\n",
    "from torch.utils.data import DataLoader\n",
    "from torch.utils import data\n",
    "from torch.backends import cudnn\n",
    "\n",
    "from torchvision import models\n",
    "from torchvision import datasets\n",
    "from torchvision import transforms\n",
    "\n",
    "from skimage import io\n",
    "\n",
    "from sklearn import metrics\n",
    "\n",
    "from matplotlib import pyplot as plt\n",
    "\n",
    "%matplotlib inline\n",
    "\n",
    "cudnn.benchmark = True"
   ]
  },
  {
   "cell_type": "markdown",
   "metadata": {
    "id": "oQa4-lUw7Rmp"
   },
   "source": [
    "## Casting para o dispositivo correto\n",
    "\n",
    "Como usaremos processamento vetorial principalmente em GPUs para aprendizado profundo, primeiramente é possível verificar se há uma GPU disponível com o trecho de código abaixo, armazenando os tensores nos dispositivos apropriados."
   ]
  },
  {
   "cell_type": "code",
   "execution_count": 2,
   "metadata": {
    "colab": {
     "base_uri": "https://localhost:8080/"
    },
    "id": "yX0bBEM863sY",
    "outputId": "d03efcb9-b8d9-4092-9fcf-96fc9278a50c"
   },
   "outputs": [
    {
     "name": "stdout",
     "output_type": "stream",
     "text": [
      "cuda\n"
     ]
    }
   ],
   "source": [
    "# Checking if GPU/CUDA is available.\n",
    "if torch.cuda.is_available():\n",
    "    device = torch.device('cuda')\n",
    "else:\n",
    "    device = torch.device('cpu')\n",
    "\n",
    "print(device)"
   ]
  },
  {
   "cell_type": "markdown",
   "metadata": {
    "id": "1x5UK0uib2tk"
   },
   "source": [
    "# Intro MLP\n",
    "\n",
    "## Neurônios e a camada `nn.Linear`\n",
    "\n",
    "A camada Linear do Pytorch ([nn.Linear](https://pytorch.org/docs/stable/nn.html#torch.nn.Linear)) é responsável por aplicar uma transformação linear no dado de entrada. Esta camada recebe como parâmetro a dimensão (número de *features*) da entrada e da saída (que na verdade, representa o número de neurônios dessa camada). Por padrão o bias já é incluído. **Um** perceptron pode ser facilmente representado como a seguir, desconsiderando a função de ativação:\n",
    "\n",
    "```\n",
    "linear = nn.Linear(in_dimension, 1)\n",
    "```\n",
    "Mas de uma forma geral, uma camada Linear com diversas *features* de entrada e diversas *features* de saída pode ser representada como:\n",
    "```\n",
    "nn.Linear(in_features, out_features)\n",
    "```\n",
    "![](https://github.com/flaviovdf/deep-ufmg/blob/main/listas/figs/nn_linear.png?raw=1)"
   ]
  },
  {
   "cell_type": "code",
   "execution_count": 3,
   "metadata": {
    "colab": {
     "base_uri": "https://localhost:8080/"
    },
    "id": "OlQA_vtGg8bf",
    "outputId": "4e70d999-ac4a-460c-ab77-83b482d8dee1"
   },
   "outputs": [
    {
     "name": "stdout",
     "output_type": "stream",
     "text": [
      "Linear(in_features=2, out_features=1, bias=True)\n"
     ]
    }
   ],
   "source": [
    "linear = nn.Linear(2, 1)\n",
    "print(linear)"
   ]
  },
  {
   "cell_type": "markdown",
   "metadata": {
    "id": "6AhNyLrLmFcT"
   },
   "source": [
    "Como é possível ver no código abaixo, o Pytorch já inicia os pesos da camada aleatoriamente."
   ]
  },
  {
   "cell_type": "code",
   "execution_count": 4,
   "metadata": {
    "colab": {
     "base_uri": "https://localhost:8080/"
    },
    "id": "fLOlOhQVmPuj",
    "outputId": "662e10b4-b917-4d2e-d39e-c7cb70727c35"
   },
   "outputs": [
    {
     "name": "stdout",
     "output_type": "stream",
     "text": [
      "Parameter containing:\n",
      "tensor([[-0.4770, -0.3397]], requires_grad=True)\n",
      "Parameter containing:\n",
      "tensor([-0.2205], requires_grad=True)\n"
     ]
    }
   ],
   "source": [
    "for param in linear.parameters():\n",
    "  print(param)"
   ]
  },
  {
   "cell_type": "markdown",
   "metadata": {
    "id": "aAEaJGtDoZD7"
   },
   "source": [
    "O **forward** consiste em passar seu dado de entrada pela rede, gerando um resultado ao final. Considerando a camada linear instanciada anteriormente, o resultado do forward é o mesmo do somatório da multiplicação de seus pesos pelas respectivas entradas juntamente com o bias, ou seja:\n",
    "\n",
    "$$f_w(x) = w_0 + w_1x_1 + w_2x_2 + \\ldots + w_nx_n$$\n",
    "\n",
    "No Pytorch, realizamos o **forward** chamando o objeto onde nossa rede/modelo está instanciada, conforme exemplo abaixo."
   ]
  },
  {
   "cell_type": "code",
   "execution_count": 5,
   "metadata": {
    "colab": {
     "base_uri": "https://localhost:8080/"
    },
    "id": "Ibb8t7zpmpUI",
    "outputId": "dd18b7d0-26e1-4258-9c70-7e6b8e7987e8"
   },
   "outputs": [
    {
     "name": "stdout",
     "output_type": "stream",
     "text": [
      "Pytorch:  tensor([1.0192], grad_fn=<ViewBackward0>)\n",
      "Manual:  tensor([1.0192], grad_fn=<AddBackward0>)\n"
     ]
    }
   ],
   "source": [
    "linear = nn.Linear(2, 1)\n",
    "X = torch.tensor([2.0, 3.0]) # dado de entrada de exemplo considerando o perceptron definido como nn.Linear(2,1)\n",
    "print('Pytorch: ', linear(X))\n",
    "\n",
    "# acessamos os pesos do modelo com .weight e o bias com .bias\n",
    "print('Manual: ', torch.sum(X * linear.weight) + linear.bias)"
   ]
  },
  {
   "cell_type": "code",
   "execution_count": 6,
   "metadata": {
    "colab": {
     "base_uri": "https://localhost:8080/"
    },
    "id": "zwjZ4t_MIz58",
    "outputId": "22624d64-ade9-43c2-e796-3a0064505177"
   },
   "outputs": [
    {
     "name": "stdout",
     "output_type": "stream",
     "text": [
      "Forward com chamada implícita: tensor([1.0192], grad_fn=<ViewBackward0>)\n",
      "Forward com chamada explícita: tensor([1.0192], grad_fn=<ViewBackward0>)\n"
     ]
    }
   ],
   "source": [
    "# Ao fazermos linear(X), estamos fazendo implicitamente uma chamada na função forward da Linear\n",
    "print('Forward com chamada implícita:', linear(X))\n",
    "print('Forward com chamada explícita:', linear.forward(X))"
   ]
  },
  {
   "cell_type": "markdown",
   "metadata": {
    "id": "x8LMX6OMrEbw"
   },
   "source": [
    "## Exemplo de uma rede neural simples (1 camada)\n",
    "\n",
    "O código abaixo cria uma rede neural simples usando `nn.Linear` e implementa o fluxo de treinamento para essa rede, ou seja, faz o forward, calcula a loss, e otimiza seus pesos. Invista um pouco de tempo para entender a célula abaixo pois usaremos essa ideia para implementar a função de treino mais a frente."
   ]
  },
  {
   "cell_type": "code",
   "execution_count": 7,
   "metadata": {
    "id": "_uGksRlgJYNb"
   },
   "outputs": [],
   "source": [
    "# Iremos criar dados que seguem a função y = 2x + 3\n",
    "dataset = []\n",
    "for x in range(10):\n",
    "    dataset.append((x, 2*x + 3)) # tupla com (x, y)"
   ]
  },
  {
   "cell_type": "code",
   "execution_count": 8,
   "metadata": {
    "colab": {
     "base_uri": "https://localhost:8080/"
    },
    "id": "Q2MwrrGAmFMZ",
    "outputId": "be04d718-44a2-4751-f6d2-93da08a542b6"
   },
   "outputs": [
    {
     "data": {
      "text/plain": [
       "[(0, 3),\n",
       " (1, 5),\n",
       " (2, 7),\n",
       " (3, 9),\n",
       " (4, 11),\n",
       " (5, 13),\n",
       " (6, 15),\n",
       " (7, 17),\n",
       " (8, 19),\n",
       " (9, 21)]"
      ]
     },
     "execution_count": 8,
     "metadata": {},
     "output_type": "execute_result"
    }
   ],
   "source": [
    "dataset"
   ]
  },
  {
   "cell_type": "code",
   "execution_count": 9,
   "metadata": {
    "id": "UHRwAuyFJvUa"
   },
   "outputs": [],
   "source": [
    "# Definiremos uma loss (erro quadrático -> (y - y_hat)^2)\n",
    "def loss_fn(predict, label):\n",
    "    return torch.pow(label - predict, 2)"
   ]
  },
  {
   "cell_type": "code",
   "execution_count": 10,
   "metadata": {
    "colab": {
     "base_uri": "https://localhost:8080/"
    },
    "id": "YPJ9s5ckoA5T",
    "outputId": "d1f319d3-373e-404b-84ae-1472fd3d5e1c"
   },
   "outputs": [
    {
     "name": "stdout",
     "output_type": "stream",
     "text": [
      "Parâmetros iniciais: [Parameter containing:\n",
      "tensor([[-0.9129]], device='cuda:0', requires_grad=True), Parameter containing:\n",
      "tensor([-0.8780], device='cuda:0', requires_grad=True)]\n",
      "\n",
      "Epoch 10 - loss: 9.185582130216062\n",
      "Epoch 20 - loss: 3.174453711602837\n",
      "Epoch 30 - loss: 1.0970658282749355\n",
      "Epoch 40 - loss: 0.37913637710153125\n",
      "Epoch 50 - loss: 0.13102717518631835\n",
      "Epoch 60 - loss: 0.0452819114580052\n",
      "Epoch 70 - loss: 0.015649528460926376\n",
      "Epoch 80 - loss: 0.005408602432908083\n",
      "Epoch 90 - loss: 0.001869198074018641\n",
      "Epoch 100 - loss: 0.0006459209735112381\n",
      "\n",
      "Parâmetros finais:  [Parameter containing:\n",
      "tensor([[2.0016]], device='cuda:0', requires_grad=True), Parameter containing:\n",
      "tensor([2.9853], device='cuda:0', requires_grad=True)]\n"
     ]
    }
   ],
   "source": [
    "linear = nn.Linear(1, 1) # Camada linear com 1 feature de entrada (mais o bias) e uma de saída\n",
    "linear.to(device) # casting do linear para GPU\n",
    "\n",
    "learning_rate = 0.01\n",
    "print(f'Parâmetros iniciais: {list(linear.parameters())}\\n')\n",
    "\n",
    "for epoch in range(100):\n",
    "    epoch_loss = 0\n",
    "\n",
    "    for X, y in dataset:\n",
    "        # Fazendo o casting dos dados para tensores na GPU\n",
    "        X = torch.FloatTensor([X]).to(device)\n",
    "        y = torch.FloatTensor([y]).to(device)\n",
    "\n",
    "        y_pred = linear(X)  # etapa de forward\n",
    "        loss = loss_fn(y_pred, y)  # calcula a loss\n",
    "        epoch_loss += loss.item()\n",
    "\n",
    "        # Etapa de backprop\n",
    "        loss.backward()\n",
    "        with torch.no_grad(): # não queremos fazer com que o pytorch anote as operações do backprop e acumule o gradiente\n",
    "            for param in linear.parameters():\n",
    "                param -= learning_rate * param.grad  # atualização dos parametros (pesos e bias) com base no gradiente\n",
    "                param.grad.zero_()  # resetando o gradiente\n",
    "\n",
    "    if (epoch + 1) % 10 == 0:\n",
    "        print(\"Epoch {} - loss: {}\".format(epoch + 1, epoch_loss))\n",
    "\n",
    "print('\\nParâmetros finais: ', list(linear.parameters()))"
   ]
  },
  {
   "cell_type": "code",
   "execution_count": 11,
   "metadata": {
    "colab": {
     "base_uri": "https://localhost:8080/"
    },
    "id": "e9uRk8mAwGIB",
    "outputId": "7a80436f-36c6-4323-8451-c8c81e968268"
   },
   "outputs": [
    {
     "name": "stdout",
     "output_type": "stream",
     "text": [
      "tensor([43.0164], device='cuda:0', grad_fn=<ViewBackward0>)\n"
     ]
    }
   ],
   "source": [
    "X = torch.FloatTensor([20]).to(device)\n",
    "print(linear(X)) # forward do valor 20 para conferir resultado, saida deve ser aproximadamente = 2x+3 = 2*20+3 = 43"
   ]
  },
  {
   "cell_type": "markdown",
   "metadata": {
    "id": "3f-q6bCNzEmx"
   },
   "source": [
    "## O módulo `nn.Sequential`\n",
    "\n",
    "Na prática, criaremos redes com diversas camadas. O bloco `nn.Sequential` permite agrupar as camadas de forma sequencial para que o forward seja realizado na ordem desejada. Veja um exemplo para um *Multilayer Perceptron (MLP)* abaixo."
   ]
  },
  {
   "cell_type": "code",
   "execution_count": 12,
   "metadata": {
    "colab": {
     "base_uri": "https://localhost:8080/"
    },
    "id": "LCK_OkqCzdUW",
    "outputId": "415f93b8-fa02-4367-81f9-a8a4ceffef01"
   },
   "outputs": [
    {
     "name": "stdout",
     "output_type": "stream",
     "text": [
      "Sequential(\n",
      "  (0): Linear(in_features=28, out_features=64, bias=True)\n",
      "  (1): ReLU()\n",
      "  (2): Linear(in_features=64, out_features=32, bias=True)\n",
      "  (3): ReLU()\n",
      "  (4): Linear(in_features=32, out_features=8, bias=True)\n",
      ")\n"
     ]
    }
   ],
   "source": [
    "in_features = 28\n",
    "out_features = 8\n",
    "\n",
    "first_hidden_size = 64\n",
    "second_hidden_size = 32\n",
    "\n",
    "MLP = nn.Sequential(\n",
    "    nn.Linear(in_features, first_hidden_size), nn.ReLU(),\n",
    "    nn.Linear(first_hidden_size, second_hidden_size), nn.ReLU(),\n",
    "    nn.Linear(second_hidden_size, out_features)\n",
    ")\n",
    "\n",
    "print(MLP)"
   ]
  },
  {
   "cell_type": "code",
   "execution_count": 13,
   "metadata": {
    "colab": {
     "base_uri": "https://localhost:8080/"
    },
    "id": "mkhjCepK0kjJ",
    "outputId": "d550c6dd-c6cf-4efd-c81f-008c1fd12964"
   },
   "outputs": [
    {
     "name": "stdout",
     "output_type": "stream",
     "text": [
      "torch.Size([10, 8])\n"
     ]
    }
   ],
   "source": [
    "test_data = torch.randn((10, 28)) # 10 dados de input aleatórios com 28 features\n",
    "\n",
    "output = MLP(test_data) # forward da rede\n",
    "print(output.size())"
   ]
  },
  {
   "cell_type": "markdown",
   "metadata": {
    "id": "dfb4zBjO0Lua"
   },
   "source": [
    "Informação sobre outras camadas lineares, como nn.Bilinear e nn.Identity, podem ser vistas na documentação: https://pytorch.org/docs/stable/nn.html#linear-layers"
   ]
  },
  {
   "cell_type": "markdown",
   "metadata": {
    "id": "E9LoXL0cUYMT"
   },
   "source": [
    "## Conjunto de Exercícios 1 - Implementação de uma MLP\n",
    "\n",
    "Vamos agora treinar um MLP simples no dataset de [Breast Cancer da UCI](https://archive.ics.uci.edu/ml/datasets/Breast+Cancer+Wisconsin+(Diagnostic)). A célula abaixo irá carregar os dados utilizando a biblioteca scikit-learn, que já possui o dataset pronto para utilizarmos.\n",
    "\n",
    "- Neste exercício, não estamos interessados em trabalhar com dados de treino/teste, mas sim apenas estudar como definir uma rede neural de múltiplas camadas em PyTorch e realizar o treinamento dos seus pesos e viéses."
   ]
  },
  {
   "cell_type": "code",
   "execution_count": 38,
   "metadata": {
    "colab": {
     "base_uri": "https://localhost:8080/"
    },
    "id": "Vi3Zh8fQ4X_3",
    "outputId": "faf3221f-0592-48fd-8346-c4158f87a9a4"
   },
   "outputs": [
    {
     "name": "stdout",
     "output_type": "stream",
     "text": [
      "Tamanho de X:  torch.Size([569, 30])\n",
      "Tamanho de y:  torch.Size([569, 1])\n"
     ]
    }
   ],
   "source": [
    "from sklearn.datasets import load_breast_cancer\n",
    "\n",
    "X, y = load_breast_cancer(return_X_y=True)\n",
    "\n",
    "# Convertendo os dados para tensores PyTorch e fazendo o casting para o dispositivo apropriado\n",
    "X = torch.FloatTensor(X).to(device)\n",
    "y = torch.FloatTensor(y).to(device)\n",
    "\n",
    "# Modificando o shape das anotações para ser um vetor (n, 1) para não gerar erros no cálculo da função de perda\n",
    "# Isso é necessário pois os produtos internos feitos no PyTorch irá resultar em uma matriz (n, 1), ou seja, n-linhas\n",
    "# onde cada linha terá um valor binário (classe daquela observação)\n",
    "y = y.reshape(y.shape[0], 1)\n",
    "\n",
    "# Exibindo o tamanho dos tensores\n",
    "print('Tamanho de X: ', X.size())\n",
    "print('Tamanho de y: ', y.size())"
   ]
  },
  {
   "cell_type": "code",
   "execution_count": 39,
   "metadata": {
    "colab": {
     "base_uri": "https://localhost:8080/"
    },
    "id": "EjahTNqATUvu",
    "outputId": "111e8610-5005-45db-f403-316d302cf296"
   },
   "outputs": [
    {
     "name": "stdout",
     "output_type": "stream",
     "text": [
      "Labels dos dados: tensor([0., 1.], device='cuda:0')\n"
     ]
    }
   ],
   "source": [
    "print('Labels dos dados:', torch.unique(y))"
   ]
  },
  {
   "cell_type": "markdown",
   "metadata": {
    "id": "ZMDN1viW-0Eg"
   },
   "source": [
    "1. Implemente na célula abaixo uma MLP, de nome **model**, utilizando o módulo `nn.Sequential`. A sua rede MLP deve possuir, pelo menos, uma camada escondida, usando uma ReLU como função de ativação entre as camadas.\n",
    "\n",
    "    - Note que o nosso problema é um problema de classificação binária. Iremos utilizar uma função de perda do PyTorch que recebe como entrada a saída \"crua\" (*logits*) da sua rede neural. Sendo assim, não se preocupe em aplicar alguma transformação na saída (como uma sigmóide) para converter os valores para uma probabilidade, por exemplo."
   ]
  },
  {
   "cell_type": "code",
   "execution_count": 40,
   "metadata": {
    "colab": {
     "base_uri": "https://localhost:8080/"
    },
    "id": "zYO7HWC29Ahy",
    "outputId": "1d7efbd6-8416-4c0b-a069-a0bde4fe53cd"
   },
   "outputs": [
    {
     "name": "stdout",
     "output_type": "stream",
     "text": [
      "Sequential(\n",
      "  (0): Linear(in_features=30, out_features=64, bias=True)\n",
      "  (1): ReLU()\n",
      "  (2): Linear(in_features=64, out_features=64, bias=True)\n",
      "  (3): ReLU()\n",
      "  (4): Linear(in_features=64, out_features=1, bias=True)\n",
      "  (5): Sigmoid()\n",
      ")\n"
     ]
    }
   ],
   "source": [
    "model = nn.Sequential(\n",
    "    # implemente aqui a sua solução!\n",
    "    nn.Linear(30, 64), nn.ReLU(),\n",
    "    nn.Linear(64, 64), nn.ReLU(),\n",
    "    nn.Linear(64, 1), nn.Sigmoid()\n",
    ")\n",
    "\n",
    "model.to(device)  # sempre é necessario fazer o casting da rede para jogá-la para GPU\n",
    "print(model)"
   ]
  },
  {
   "cell_type": "markdown",
   "metadata": {
    "id": "BWrn_MUHBz7o"
   },
   "source": [
    "Abaixo, definimos uma loss e um otimizador usando o PyTorch. Não se preocupem como isso funciona agora, pois iremos ver em detalhes como definir e usar diferentes losses e otimizadores com o PyTorch."
   ]
  },
  {
   "cell_type": "code",
   "execution_count": 41,
   "metadata": {
    "id": "IgEeodMiSmuO"
   },
   "outputs": [],
   "source": [
    "# Iremos utilizar a entropia cruzada binária como função de perda para o nosso problema\n",
    "# Essa versão da BCE aceita como entrada a saída \"crua\" (logits) da sua rede neural.\n",
    "# Outras versões, como a BCELoss aceita como entrada uma saída probabilística da sua rede neural (sigmoid ou softmax),\n",
    "# sendo assim você deve colocar uma função de ativação depois do último nn.Linear do seu modelo.\n",
    "# A versão BCEWithLogitsLoss implementa uma versão mais numericamente estável da loss, podemos observar isso na própria\n",
    "# documentação do PyTorch: https://pytorch.org/docs/stable/generated/torch.nn.BCEWithLogitsLoss.html?highlight=bcewithlogitsloss#torch.nn.BCEWithLogitsLoss\n",
    "criterion = nn.BCEWithLogitsLoss()"
   ]
  },
  {
   "cell_type": "code",
   "execution_count": 42,
   "metadata": {
    "id": "Oa5DcYBf82iD"
   },
   "outputs": [],
   "source": [
    "# Iremos utilizar o pacote optim para definir um otimizador que irá atualizar os pesos do modelo para nós.\n",
    "# Aqui, utilizaremos SGD - Gradiente Descendente Estocástico.\n",
    "# O pacote optim contém muitos outros algoritmos de otimização, porém, em todos o primeiro parâmetro irá dizer para os\n",
    "# otimizadores quais tensores (com requires_grad=True) do nosso modelo ele deverá otimizar.\n",
    "import torch.optim as optim\n",
    "\n",
    "learning_rate = 1e-4\n",
    "optimizer = optim.SGD(model.parameters(), lr=learning_rate)"
   ]
  },
  {
   "cell_type": "markdown",
   "metadata": {
    "id": "JPQtOnNr-kAG"
   },
   "source": [
    "Abaixo teremos um loop de treinamento típico de PyTorch. Não precisa modificar em nada essa funçao, porém estude ela mesmo assim, já que usaremos esse fluxo como template para treinamento de outros modelos mais a frente no curso."
   ]
  },
  {
   "cell_type": "code",
   "execution_count": 43,
   "metadata": {
    "colab": {
     "base_uri": "https://localhost:8080/"
    },
    "id": "dsMFRIDv80I3",
    "outputId": "8b9f75d6-f8cd-4631-bffe-3942e09d32b0"
   },
   "outputs": [
    {
     "name": "stdout",
     "output_type": "stream",
     "text": [
      "Epoch 10: loss = 0.67920\n",
      "Epoch 20: loss = 0.59289\n",
      "Epoch 30: loss = 0.58604\n",
      "Epoch 40: loss = 0.58196\n",
      "Epoch 50: loss = 0.57946\n",
      "Epoch 60: loss = 0.57776\n",
      "Epoch 70: loss = 0.57654\n",
      "Epoch 80: loss = 0.57555\n",
      "Epoch 90: loss = 0.57466\n",
      "Epoch 100: loss = 0.57376\n",
      "Epoch 110: loss = 0.57280\n",
      "Epoch 120: loss = 0.57193\n",
      "Epoch 130: loss = 0.57116\n",
      "Epoch 140: loss = 0.57048\n",
      "Epoch 150: loss = 0.56987\n",
      "Epoch 160: loss = 0.56932\n",
      "Epoch 170: loss = 0.56882\n",
      "Epoch 180: loss = 0.56835\n",
      "Epoch 190: loss = 0.56791\n",
      "Epoch 200: loss = 0.56749\n",
      "Epoch 210: loss = 0.56707\n",
      "Epoch 220: loss = 0.56666\n",
      "Epoch 230: loss = 0.56626\n",
      "Epoch 240: loss = 0.56587\n",
      "Epoch 250: loss = 0.56548\n",
      "Epoch 260: loss = 0.56511\n",
      "Epoch 270: loss = 0.56473\n",
      "Epoch 280: loss = 0.56437\n",
      "Epoch 290: loss = 0.56401\n",
      "Epoch 300: loss = 0.56365\n",
      "Epoch 310: loss = 0.56330\n",
      "Epoch 320: loss = 0.56296\n",
      "Epoch 330: loss = 0.56262\n",
      "Epoch 340: loss = 0.56228\n",
      "Epoch 350: loss = 0.56195\n",
      "Epoch 360: loss = 0.56162\n",
      "Epoch 370: loss = 0.56130\n",
      "Epoch 380: loss = 0.56098\n",
      "Epoch 390: loss = 0.56066\n",
      "Epoch 400: loss = 0.56035\n",
      "Epoch 410: loss = 0.56005\n",
      "Epoch 420: loss = 0.55974\n",
      "Epoch 430: loss = 0.55944\n",
      "Epoch 440: loss = 0.55914\n",
      "Epoch 450: loss = 0.55884\n",
      "Epoch 460: loss = 0.55855\n",
      "Epoch 470: loss = 0.55826\n",
      "Epoch 480: loss = 0.55797\n",
      "Epoch 490: loss = 0.55768\n",
      "Epoch 500: loss = 0.55740\n"
     ]
    }
   ],
   "source": [
    "# Aqui iremos criar uma lista de loss para cada época\n",
    "loss_list = []\n",
    "\n",
    "# Iterando sobre as épocas\n",
    "n_epochs = 500\n",
    "for epoch in range(n_epochs):\n",
    "    preds = model(X)\n",
    "    loss = criterion(preds, y)\n",
    "\n",
    "    # Salvando a loss da iteração atual (para plots futuros)\n",
    "    loss_list.append(loss.item())\n",
    "\n",
    "    # Antes de fazermos o backward pass, iremos zerar o gradiente de todos os tensores\n",
    "    # atrelados ao otimizador utilizando a chamada de função .zero_grad() do nosso otimizador.\n",
    "    # Faremos isso pois os gradientes são acumulados, sempre que chamamos .backward(), em buffers nos\n",
    "    # tensores que representam os pesos dos nossos modelos, ou seja, não são sobrescritos.\n",
    "    # Para mais detalhes, você pode dar uma olhada na documentação do torch.autograd.backward\n",
    "    optimizer.zero_grad()\n",
    "\n",
    "    # Realizando o backward pass, ou seja, computando os gradientes da nossa função de perda\n",
    "    # com respeito aos parâmetros (pesos) do nosso modelo\n",
    "    loss.backward()\n",
    "\n",
    "    # Chamando a função .step() do nosso otimizador para realizar um \"passo\" na otimização.\n",
    "    # Nesse caso, o \"passo\" será realizar o cálculo que vimos do gradiente descendente\n",
    "    optimizer.step()\n",
    "\n",
    "    if (epoch + 1) % 10 == 0:\n",
    "        print(f'Epoch {epoch + 1}: loss = {loss.item():.5f}')"
   ]
  },
  {
   "cell_type": "code",
   "execution_count": 44,
   "metadata": {
    "colab": {
     "base_uri": "https://localhost:8080/",
     "height": 721
    },
    "id": "toQyqq98-68X",
    "outputId": "b70fd468-f89a-493d-d863-b5cbefb65c6f"
   },
   "outputs": [
    {
     "data": {
      "image/png": "[encoded data removed]",
      "text/plain": [
       "<Figure size 1000x800 with 1 Axes>"
      ]
     },
     "metadata": {},
     "output_type": "display_data"
    }
   ],
   "source": [
    "fig, ax = plt.subplots(1, 1, figsize=(10, 8))\n",
    "\n",
    "ax.set_title('Evolução da função de perda ao longo das épocas')\n",
    "ax.set_ylabel('Valor da função de perda')\n",
    "ax.set_xlabel('Épocas')\n",
    "ax.plot(np.asarray(loss_list))\n",
    "\n",
    "plt.show()"
   ]
  },
  {
   "cell_type": "code",
   "execution_count": null,
   "metadata": {
    "id": "4aU4-sp5abBh"
   },
   "outputs": [],
   "source": []
  }
 ],
 "metadata": {
  "accelerator": "GPU",
  "colab": {
   "provenance": []
  },
  "gpuClass": "standard",
  "kernelspec": {
   "display_name": "Python 3 (ipykernel)",
   "language": "python",
   "name": "python3"
  }
 },
 "nbformat": 4,
 "nbformat_minor": 1
}
